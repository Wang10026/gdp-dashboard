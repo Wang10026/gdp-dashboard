{
  "nbformat": 4,
  "nbformat_minor": 0,
  "metadata": {
    "colab": {
      "provenance": [],
      "include_colab_link": true
    },
    "kernelspec": {
      "name": "python3",
      "display_name": "Python 3"
    }
  },
  "cells": [
    {
      "cell_type": "markdown",
      "metadata": {
        "id": "view-in-github",
        "colab_type": "text"
      },
      "source": [
        "<a href=\"https://colab.research.google.com/github/Wang10026/gdp-dashboard/blob/main/Data_Manipulation_in_Python_I.ipynb\" target=\"_parent\"><img src=\"https://colab.research.google.com/assets/colab-badge.svg\" alt=\"Open In Colab\"/></a>"
      ]
    },
    {
      "cell_type": "markdown",
      "metadata": {
        "id": "u_-7WJlBn3uN"
      },
      "source": [
        "# Data Manipulation in Python I"
      ]
    },
    {
      "cell_type": "markdown",
      "metadata": {
        "id": "96SKJkUhpNzR"
      },
      "source": [
        "**Objectives**\n",
        "* Learn Colaboratory fundanmental operations\n",
        "* Learn and Review Python Basics\n",
        "* Learn Numpy Basics"
      ]
    },
    {
      "cell_type": "markdown",
      "metadata": {
        "id": "ekD-baKJwISB"
      },
      "source": [
        "**Things need to know**\n",
        "* 对于0基础的同学，以了解为主\n",
        "* 不需要可以从0把code写出来\n",
        "* 这部分code与算法课程code的思维不一样\n",
        "* 需要下课自己去跑一下code，尽量去理解\n",
        "* 工具终归是辅助我们的，先尽力学会一个\n",
        "* 逐步掌握python code debug能力"
      ]
    },
    {
      "cell_type": "markdown",
      "metadata": {
        "id": "r3tIt1Zjsi2y"
      },
      "source": [
        "##Introduction to [Colaboratory](https://colab.research.google.com/notebooks/welcome.ipynb#scrollTo=-Rh3-Vt9Nev9)\n",
        "* Install Colaboratory (check *class doc*)\n",
        "* Install and import python packages"
      ]
    },
    {
      "cell_type": "code",
      "metadata": {
        "id": "vzJufYKix58j",
        "colab": {
          "base_uri": "https://localhost:8080/"
        },
        "outputId": "44dc9583-9a12-4e3f-e31f-5ef1cc4c0da4"
      },
      "source": [
        "#@title install packages(不需要掌握)\n",
        "#shell script\n",
        "!pip install pandasql"
      ],
      "execution_count": 1,
      "outputs": [
        {
          "output_type": "stream",
          "name": "stdout",
          "text": [
            "Collecting pandasql\n",
            "  Downloading pandasql-0.7.3.tar.gz (26 kB)\n",
            "  Preparing metadata (setup.py) ... \u001b[?25l\u001b[?25hdone\n",
            "Requirement already satisfied: numpy in /usr/local/lib/python3.10/dist-packages (from pandasql) (1.26.4)\n",
            "Requirement already satisfied: pandas in /usr/local/lib/python3.10/dist-packages (from pandasql) (2.2.2)\n",
            "Requirement already satisfied: sqlalchemy in /usr/local/lib/python3.10/dist-packages (from pandasql) (2.0.36)\n",
            "Requirement already satisfied: python-dateutil>=2.8.2 in /usr/local/lib/python3.10/dist-packages (from pandas->pandasql) (2.8.2)\n",
            "Requirement already satisfied: pytz>=2020.1 in /usr/local/lib/python3.10/dist-packages (from pandas->pandasql) (2024.2)\n",
            "Requirement already satisfied: tzdata>=2022.7 in /usr/local/lib/python3.10/dist-packages (from pandas->pandasql) (2024.2)\n",
            "Requirement already satisfied: typing-extensions>=4.6.0 in /usr/local/lib/python3.10/dist-packages (from sqlalchemy->pandasql) (4.12.2)\n",
            "Requirement already satisfied: greenlet!=0.4.17 in /usr/local/lib/python3.10/dist-packages (from sqlalchemy->pandasql) (3.1.1)\n",
            "Requirement already satisfied: six>=1.5 in /usr/local/lib/python3.10/dist-packages (from python-dateutil>=2.8.2->pandas->pandasql) (1.17.0)\n",
            "Building wheels for collected packages: pandasql\n",
            "  Building wheel for pandasql (setup.py) ... \u001b[?25l\u001b[?25hdone\n",
            "  Created wheel for pandasql: filename=pandasql-0.7.3-py3-none-any.whl size=26772 sha256=c40556c3d72cd04be1cb52a3aa78aab78cfa25b77721910323837fd4844b72f9\n",
            "  Stored in directory: /root/.cache/pip/wheels/e9/bc/3a/8434bdcccf5779e72894a9b24fecbdcaf97940607eaf4bcdf9\n",
            "Successfully built pandasql\n",
            "Installing collected packages: pandasql\n",
            "Successfully installed pandasql-0.7.3\n"
          ]
        }
      ]
    },
    {
      "cell_type": "code",
      "metadata": {
        "id": "gb2OqLrDvSOB"
      },
      "source": [
        "#@title import packages\n",
        "import numpy as np #numpy\n",
        "import pandas as pd #pandas"
      ],
      "execution_count": null,
      "outputs": []
    },
    {
      "cell_type": "markdown",
      "metadata": {
        "id": "NODlSrUwye-l"
      },
      "source": [
        "## Python Basics"
      ]
    },
    {
      "cell_type": "markdown",
      "metadata": {
        "id": "zUuCltN003Sk"
      },
      "source": [
        "### **Numeric Types**\n"
      ]
    },
    {
      "cell_type": "code",
      "metadata": {
        "id": "eJ2X-QxL0zS2",
        "colab": {
          "base_uri": "https://localhost:8080/"
        },
        "outputId": "34ff1aaa-f55f-48b1-acfc-ba26806e8eb7"
      },
      "source": [
        "x = 2 # =>2\n",
        "print(type(x)) # class 'int'\n",
        "\n",
        "y = 1.5 # =>1.5\n",
        "print(type(y)) # class 'float'\n",
        "\n",
        "# Math\n",
        "x = x ** 3 # =>8 exponential\n",
        "print(x)\n",
        "\n",
        "x += 1 # =>9 addition x = x + 1\n",
        "print(x)\n",
        "\n",
        "x %= 2 # =>1 modulo\n",
        "print(x)\n",
        "\n",
        "x += y # =>2.5 x = x + y\n",
        "print(x)"
      ],
      "execution_count": null,
      "outputs": [
        {
          "output_type": "stream",
          "name": "stdout",
          "text": [
            "<class 'int'>\n",
            "<class 'float'>\n",
            "8\n",
            "9\n",
            "1\n",
            "2.5\n"
          ]
        }
      ]
    },
    {
      "cell_type": "markdown",
      "metadata": {
        "id": "z8Pu3j8v2XAz"
      },
      "source": [
        "### **Boolean**"
      ]
    },
    {
      "cell_type": "code",
      "metadata": {
        "id": "sFWtTc7v2jxS",
        "colab": {
          "base_uri": "https://localhost:8080/"
        },
        "outputId": "b2e29f44-0cc2-4014-94a1-e703054d0b62"
      },
      "source": [
        "t = True\n",
        "f = False\n",
        "\n",
        "print(type(t)) # class 'bool'\n",
        "print(t or f) # True\n",
        "print(t and f) # False\n",
        "print(not t) # False\n",
        "print(not f) # True\n",
        "\n",
        "print(1 or False) # (Advanced, just know it is enough, is it really important?)\n",
        "\n",
        "test = 1 or False\n",
        "print(type(test))\n",
        "print(test)"
      ],
      "execution_count": null,
      "outputs": [
        {
          "output_type": "stream",
          "name": "stdout",
          "text": [
            "<class 'bool'>\n",
            "True\n",
            "False\n",
            "False\n",
            "True\n",
            "1\n",
            "<class 'int'>\n",
            "1\n"
          ]
        }
      ]
    },
    {
      "cell_type": "markdown",
      "metadata": {
        "id": "r1HPK_4D3dRz"
      },
      "source": [
        "### **String**\n",
        "\n",
        "Strings are immutable type, which means we can't change the value once initialized."
      ]
    },
    {
      "cell_type": "code",
      "metadata": {
        "id": "WG9dlTJK3ezP",
        "colab": {
          "base_uri": "https://localhost:8080/"
        },
        "outputId": "e74b54f8-127f-401d-a6af-baf96466321d"
      },
      "source": [
        "# Construct string\n",
        "s1 = 'single quote' # use single quotes\n",
        "print(type(s1)) # class 'str'\n",
        "\n",
        "s2= \"double quote\" # use double quotes\n",
        "print(type(s2)) # class 'str'"
      ],
      "execution_count": null,
      "outputs": [
        {
          "output_type": "stream",
          "name": "stdout",
          "text": [
            "<class 'str'>\n",
            "<class 'str'>\n"
          ]
        }
      ]
    },
    {
      "cell_type": "code",
      "metadata": {
        "id": "GmL2VmQ1wXSU",
        "colab": {
          "base_uri": "https://localhost:8080/"
        },
        "outputId": "c02d1b87-d91f-4e0c-ab8d-ccd8d777bb51"
      },
      "source": [
        "# (Advanced)Tripe Quotes\n",
        "s = '''\n",
        "You can specify multi-line string.\n",
        "This is an example.\n",
        "'''\n",
        "\n",
        "print(s)"
      ],
      "execution_count": null,
      "outputs": [
        {
          "output_type": "stream",
          "name": "stdout",
          "text": [
            "\n",
            "You can specify multi-line string.\n",
            "This is an example.\n",
            "\n"
          ]
        }
      ]
    },
    {
      "cell_type": "code",
      "metadata": {
        "id": "4bf6xxZH4UdO",
        "colab": {
          "base_uri": "https://localhost:8080/",
          "height": 53
        },
        "outputId": "8ecda24b-42b1-428a-fb58-c0b72e2f9b0d"
      },
      "source": [
        "# String concatenation\n",
        "s3 = s1 + ' and ' + s2 # string concatenation\n",
        "print(s3)\n",
        "#s1 + 1?\n",
        "s1 + str(1)\n",
        "#single quote1"
      ],
      "execution_count": null,
      "outputs": [
        {
          "output_type": "stream",
          "name": "stdout",
          "text": [
            "single quote and double quote\n"
          ]
        },
        {
          "output_type": "execute_result",
          "data": {
            "text/plain": [
              "'single quote1'"
            ],
            "application/vnd.google.colaboratory.intrinsic+json": {
              "type": "string"
            }
          },
          "metadata": {},
          "execution_count": 6
        }
      ]
    },
    {
      "cell_type": "code",
      "metadata": {
        "id": "BKDrh0Ig4gbp",
        "colab": {
          "base_uri": "https://localhost:8080/"
        },
        "outputId": "1d2eec5c-5656-4cd2-def9-7d47881bcbab"
      },
      "source": [
        "# String useful functions\n",
        "# escape \\\n",
        "print('Caplitalize the string: ' + s3.capitalize()) # Caplitalize the string\n",
        "print('Uppercase the string: ' + s3.upper()) # Uppercase the string\n",
        "print('\\'o\\' occurrences: ' + str(s3.count('o'))) # Count the occurrences of a character\n",
        "print('first \\'te\\' index: ' + str(s3.index('te'))) # The lowest index of the occurrence"
      ],
      "execution_count": null,
      "outputs": [
        {
          "output_type": "stream",
          "name": "stdout",
          "text": [
            "Caplitalize the string: Single quote and double quote\n",
            "Uppercase the string: SINGLE QUOTE AND DOUBLE QUOTE\n",
            "'o' occurrences: 3\n",
            "first 'te' index: 10\n"
          ]
        }
      ]
    },
    {
      "cell_type": "code",
      "metadata": {
        "id": "Z4K1QPkjHp1V",
        "colab": {
          "base_uri": "https://localhost:8080/"
        },
        "outputId": "b43f8f06-153e-4640-e7cb-3b5ce4698249"
      },
      "source": [
        "print(s3[1]) # string indexing"
      ],
      "execution_count": null,
      "outputs": [
        {
          "output_type": "stream",
          "name": "stdout",
          "text": [
            "i\n"
          ]
        }
      ]
    },
    {
      "cell_type": "code",
      "metadata": {
        "id": "Zjl62G_SNO0p",
        "colab": {
          "base_uri": "https://localhost:8080/"
        },
        "outputId": "74d576c5-b120-4a87-9077-d3798bf7677d"
      },
      "source": [
        "# (Advanced)String format\n",
        "# escape {{}} 不用管\n",
        "# https://docs.python.org/3/library/string.html#formatstrings\n",
        "s = \"{} is handsome, but {} is not\"\n",
        "print(s.format('Rayman','Jason'))\n",
        "\n",
        "s = \"{1} is handsome, but {0} is not, {2} is super handsome\"\n",
        "print(s.format('Jason', 'Rayman', 'Mike'))\n",
        "\n",
        "name1 = 'Rayman'\n",
        "name2 = 'Jason'\n",
        "\n",
        "# 1000 lines\n",
        "\n",
        "s = \"{n1} is handsome, but {n2} is not\"\n",
        "print(s.format(n2 = name2, n1 = name1))"
      ],
      "execution_count": null,
      "outputs": [
        {
          "output_type": "stream",
          "name": "stdout",
          "text": [
            "Rayman is handsome, but Jason is not\n",
            "Rayman is handsome, but Jason is not, Mike is super handsome\n",
            "Rayman is handsome, but Jason is not\n"
          ]
        }
      ]
    },
    {
      "cell_type": "markdown",
      "metadata": {
        "id": "fVZFfT125LdY"
      },
      "source": [
        "### **List**\n",
        "\n",
        "\n",
        "List is mutable type\n"
      ]
    },
    {
      "cell_type": "code",
      "metadata": {
        "id": "5HaYG0YV0Ll_",
        "colab": {
          "base_uri": "https://localhost:8080/"
        },
        "outputId": "edb9882b-57af-41cd-8557-2118d11a6088"
      },
      "source": [
        "lst1 = [] # initialize an empty list\n",
        "print(type(lst1)) # class 'list'\n",
        "\n",
        "lst2 = [1, 2, 3, 4] # create a list with same data type values\n",
        "print(lst2)\n",
        "\n",
        "lst3 = ['one', 2, 'three', 4] # create a list with different data type values\n",
        "print(lst3)"
      ],
      "execution_count": null,
      "outputs": [
        {
          "output_type": "stream",
          "name": "stdout",
          "text": [
            "<class 'list'>\n",
            "[1, 2, 3, 4]\n",
            "['one', 2, 'three', 4]\n"
          ]
        }
      ]
    },
    {
      "cell_type": "code",
      "metadata": {
        "id": "IUdkO-VZ3bq-",
        "colab": {
          "base_uri": "https://localhost:8080/"
        },
        "outputId": "f4201aa2-7d19-4efa-cf68-e19562129a4b"
      },
      "source": [
        "lst2.append(5) # append a new element to end of the list\n",
        "print(lst2)\n",
        "\n",
        "lst2.pop(3) # remove the 4th element of the list\n",
        "print(lst2)\n",
        "\n",
        "lst2[2] = 100 # list is mutable\n",
        "print(lst2)"
      ],
      "execution_count": null,
      "outputs": [
        {
          "output_type": "stream",
          "name": "stdout",
          "text": [
            "[1, 2, 3, 4, 5]\n",
            "[1, 2, 3, 5]\n",
            "[1, 2, 100, 5]\n"
          ]
        }
      ]
    },
    {
      "cell_type": "code",
      "metadata": {
        "id": "QjQZR_ST5hN_",
        "colab": {
          "base_uri": "https://localhost:8080/"
        },
        "outputId": "a1c15200-1e74-4a9b-b92f-a9158a71009e"
      },
      "source": [
        "print(lst2[0]) # list indexing\n",
        "print(lst2[-1]) # negative index, access from end of list\n",
        "print(len(lst2)) # the length of list\n",
        "print(lst2 + lst3) # list concatenation"
      ],
      "execution_count": null,
      "outputs": [
        {
          "output_type": "stream",
          "name": "stdout",
          "text": [
            "1\n",
            "5\n",
            "4\n",
            "[1, 2, 100, 5, 'one', 2, 'three', 4]\n"
          ]
        }
      ]
    },
    {
      "cell_type": "markdown",
      "metadata": {
        "id": "s4aKfipipd4g"
      },
      "source": [
        "**Slicing**"
      ]
    },
    {
      "cell_type": "code",
      "metadata": {
        "id": "VrVGJGgC58wC",
        "colab": {
          "base_uri": "https://localhost:8080/"
        },
        "outputId": "b6c19ed6-4fde-4b20-fde2-ec16fec6ef16"
      },
      "source": [
        "lst = range(6) # create an list of numbers using built-in function range\n",
        "print(type(lst)) # class 'range'\n",
        "\n",
        "lst = list(lst) # change to list\n",
        "print(type(lst)) # class 'list'\n",
        "\n",
        "# [start(inclusive) : end(exclusive) : step]\n",
        "\n",
        "print(lst) # [0, 1, 2, 3, 4, 5]\n",
        "print(lst[0 : 6]) # index from 0 to 5, [0, 1, 2, 3, 4, 5]\n",
        "print(lst[1: ]) # index from 1 to the end, [1, 2, 3, 4, 5]\n",
        "print(lst[ :4]) # index from start to 4(exclusive), [0, 1, 2, 3]\n",
        "print(lst[ : ]) # the whole list, [0, 1, 2, 3, 4, 5]\n",
        "print(lst[ : -1]) # negative index slicing, [0, 1, 2, 3, 4]\n",
        "print(lst[-1 : ]) # negative index slicing, [5]\n",
        "print(lst[::2]) # change index step to 2, [0, 2, 4]\n",
        "# lst[2:4] = [3, 2] # modify the values by slicing\n",
        "print(lst) # [0, 1, 3, 2, 4, 5]"
      ],
      "execution_count": null,
      "outputs": [
        {
          "output_type": "stream",
          "name": "stdout",
          "text": [
            "<class 'range'>\n",
            "<class 'list'>\n",
            "[0, 1, 2, 3, 4, 5]\n",
            "[0, 1, 2, 3, 4, 5]\n",
            "[1, 2, 3, 4, 5]\n",
            "[0, 1, 2, 3]\n",
            "[0, 1, 2, 3, 4, 5]\n",
            "[0, 1, 2, 3, 4]\n",
            "[5]\n",
            "[0, 2, 4]\n",
            "[0, 1, 2, 3, 4, 5]\n"
          ]
        }
      ]
    },
    {
      "cell_type": "code",
      "metadata": {
        "id": "tn_ZaV6w3xXi",
        "colab": {
          "base_uri": "https://localhost:8080/"
        },
        "outputId": "f3d8e2d3-0f77-4289-acbd-4327a71f9f1a"
      },
      "source": [
        "print(lst[ :-1]) # negative index slicing, [0, 1, 2, 3, 4]\n",
        "print(lst[ :5]) # postive index slicing, [0, 1, 2, 3, 4]\n",
        "print(lst[-1:]) # negative index slicing, [5]\n",
        "print(lst[5:]) # positive index slicing, [5]"
      ],
      "execution_count": null,
      "outputs": [
        {
          "output_type": "stream",
          "name": "stdout",
          "text": [
            "[0, 1, 2, 3, 4]\n",
            "[0, 1, 2, 3, 4]\n",
            "[5]\n",
            "[5]\n"
          ]
        }
      ]
    },
    {
      "cell_type": "code",
      "metadata": {
        "id": "ruoOoKza4YZv",
        "colab": {
          "base_uri": "https://localhost:8080/"
        },
        "outputId": "28d78339-e714-4134-8094-f30b326bbe50"
      },
      "source": [
        "# [start(inclusive) : end(exclusive) : step]\n",
        "print(lst)\n",
        "print(lst[::-2])"
      ],
      "execution_count": null,
      "outputs": [
        {
          "output_type": "stream",
          "name": "stdout",
          "text": [
            "[0, 1, 2, 3, 4, 5]\n",
            "[5, 3, 1]\n"
          ]
        }
      ]
    },
    {
      "cell_type": "code",
      "metadata": {
        "id": "AB4kHoZ5-Quo",
        "colab": {
          "base_uri": "https://localhost:8080/"
        },
        "outputId": "a1f7ff9c-fe7b-47d2-aaa6-fc3b8e69162b"
      },
      "source": [
        "ss = 'Hello World!' # initialize a string\n",
        "print(ss)\n",
        "\n",
        "print(ss[:]) # the whole list\n",
        "print(ss[1:3]) # index from 1 to 2"
      ],
      "execution_count": null,
      "outputs": [
        {
          "output_type": "stream",
          "name": "stdout",
          "text": [
            "Hello World!\n",
            "Hello World!\n",
            "el\n"
          ]
        }
      ]
    },
    {
      "cell_type": "markdown",
      "metadata": {
        "id": "AdJn4-B9Sg29"
      },
      "source": [
        "### **Tuple**\n",
        "\n",
        "A tuple is an (immutable) ordered list of values. A tuple is in many ways similar to a list; one of the most important differences is that tuples can be used as keys in dictionaries and as elements of sets, while lists cannot."
      ]
    },
    {
      "cell_type": "code",
      "metadata": {
        "id": "wKb15o_EgGew",
        "colab": {
          "base_uri": "https://localhost:8080/"
        },
        "outputId": "13be49c1-6c83-4b37-dcb4-2657159320da"
      },
      "source": [
        "t = (21, 42) # create a tuple\n",
        "print(type(t))"
      ],
      "execution_count": null,
      "outputs": [
        {
          "output_type": "stream",
          "name": "stdout",
          "text": [
            "<class 'tuple'>\n"
          ]
        }
      ]
    },
    {
      "cell_type": "markdown",
      "metadata": {
        "id": "SAAZ2d7CpUJO"
      },
      "source": [
        "\n",
        "\n",
        "### **Dictionary**\n",
        "\n",
        "{key: value}\n",
        "\n",
        "key-value pairs"
      ]
    },
    {
      "cell_type": "code",
      "metadata": {
        "id": "Ugbee1XSHcrQ",
        "colab": {
          "base_uri": "https://localhost:8080/"
        },
        "outputId": "6d14cc6d-9a04-40de-a979-5f1e4e4d5f0f"
      },
      "source": [
        "skills = ['ML', 'Stat', 'Coding', 'Business']\n",
        "scores = [90, 80, 1, 59]\n",
        "\n",
        "print(scores[skills.index('Coding')]) # Time Complexity\n",
        "\n",
        "score_dict = {'ML': 90, 'Stat': 80, 'Coding': 1, 'Business': 59} # create a dictionary\n",
        "print(score_dict['ML']) # get ML score\n",
        "print('Stat' in score_dict) # check if 'Stat' in the dictionary\n",
        "\n",
        "score_dict['Spark'] = 70 # Add a new key-value pair to the dictionary\n",
        "print(score_dict['Spark'])\n",
        "\n",
        "print(\"current score:\" + str(score_dict['Coding']))\n",
        "score_dict['Coding'] = 100 # Modify the existing value in the dictionary\n",
        "print(\"afterwards: \" + str(score_dict['Coding']))\n",
        "\n",
        "score_dict.pop('Spark')"
      ],
      "execution_count": null,
      "outputs": [
        {
          "output_type": "stream",
          "name": "stdout",
          "text": [
            "1\n",
            "90\n",
            "True\n",
            "70\n",
            "current score:1\n",
            "afterwards: 100\n"
          ]
        },
        {
          "output_type": "execute_result",
          "data": {
            "text/plain": [
              "70"
            ]
          },
          "metadata": {},
          "execution_count": 19
        }
      ]
    },
    {
      "cell_type": "markdown",
      "metadata": {
        "id": "eqk3BHjRSbU1"
      },
      "source": [
        "### **Set**\n",
        "\n",
        "A set is an unordered collection of *distinct* elements."
      ]
    },
    {
      "cell_type": "code",
      "metadata": {
        "id": "oK4rUVUMUZGe",
        "colab": {
          "base_uri": "https://localhost:8080/"
        },
        "outputId": "1f208fef-4756-4525-d348-dbe40f7840c3"
      },
      "source": [
        "skills = {'ML', 'Stat', 'Coding', 'Business'}\n",
        "skills_list = ['ML', 'Stat', 'Coding', 'Business']\n",
        "\n",
        "print('Business' in skills) # check if an element is in a set\n",
        "print('Spark' in skills_list) # False\n",
        "\n",
        "skills.add('Spark') # add an element\n",
        "print(skills)\n",
        "skills.remove('Spark') # remove an element\n",
        "print(skills)"
      ],
      "execution_count": null,
      "outputs": [
        {
          "output_type": "stream",
          "name": "stdout",
          "text": [
            "True\n",
            "False\n",
            "{'Stat', 'Business', 'Spark', 'ML', 'Coding'}\n",
            "{'Stat', 'Business', 'ML', 'Coding'}\n"
          ]
        }
      ]
    },
    {
      "cell_type": "markdown",
      "metadata": {
        "id": "lz14OcSJhpCK"
      },
      "source": [
        "## Numpy\n",
        "\n",
        "NumPy is the fundamental package for scientific computing in Python. It is a Python library that provides a multidimensional array object, various derived objects (such as masked arrays and matrices), and an assortment of routines for fast operations on arrays.\n",
        "\n",
        "At the core of the NumPy package, is the ndarray object. This encapsulates n-dimensional arrays of homogeneous data types, with many operations being performed in compiled code for performance.\n",
        "\n",
        "[numpy on nature](https://www.nature.com/articles/s41586-020-2649-2)([zhihu](https://zhuanlan.zhihu.com/p/250798546))\n"
      ]
    },
    {
      "cell_type": "markdown",
      "metadata": {
        "id": "vMQbELzw-Z9u"
      },
      "source": [
        "**Arrays**"
      ]
    },
    {
      "cell_type": "code",
      "metadata": {
        "id": "Op4nNL_B-efZ",
        "colab": {
          "base_uri": "https://localhost:8080/"
        },
        "outputId": "a6570873-f59f-4e4e-83b3-ccb2f3928d88"
      },
      "source": [
        "lst = [[1, 2, 3], [4, 5, 6]] # 2x3\n",
        "print(lst)\n",
        "a = np.array(lst) # create array from lists\n",
        "print(type(a)) # class 'numpy.ndarray'\n",
        "print(a)\n",
        "print(a[0]) # first row\n",
        "print(a[0][1]) # first row, second column\n",
        "\n",
        "print(a.shape) # 2 x 3\n",
        "print(a.ndim) # 2 dimensions\n",
        "print(a.dtype) # data type of the elements of array\n",
        "print(a.size) # total number of elements in the matrix"
      ],
      "execution_count": null,
      "outputs": [
        {
          "output_type": "stream",
          "name": "stdout",
          "text": [
            "[[1, 2, 3], [4, 5, 6]]\n",
            "<class 'numpy.ndarray'>\n",
            "[[1 2 3]\n",
            " [4 5 6]]\n",
            "[1 2 3]\n",
            "2\n",
            "(2, 3)\n",
            "2\n",
            "int64\n",
            "6\n"
          ]
        }
      ]
    },
    {
      "cell_type": "code",
      "source": [
        "a.reshape((3,2))"
      ],
      "metadata": {
        "colab": {
          "base_uri": "https://localhost:8080/"
        },
        "id": "8eTH4IqkC69C",
        "outputId": "3b5d2f80-ec11-4b24-f266-5e8b72087285"
      },
      "execution_count": null,
      "outputs": [
        {
          "output_type": "execute_result",
          "data": {
            "text/plain": [
              "array([[1, 2],\n",
              "       [3, 4],\n",
              "       [5, 6]])"
            ]
          },
          "metadata": {},
          "execution_count": 22
        }
      ]
    },
    {
      "cell_type": "code",
      "metadata": {
        "id": "9ryDCfxSFdEp",
        "colab": {
          "base_uri": "https://localhost:8080/"
        },
        "outputId": "3111e85f-5e0b-4e78-c4a3-46fbaaac2dae"
      },
      "source": [
        "# useful functions to create numpy array\n",
        "b = np.arange(0, 10, 2, dtype='float') # create 1d array, [start, stop)\n",
        "print(type(b)) # class 'numpy.ndarray'\n",
        "print(b)\n",
        "print(b.shape) # (5) + 2\n",
        "print(type(b.shape))\n",
        "\n",
        "c = np.linspace(1.5, 2.5, 9) # create 1d array with float, [start, stop]\n",
        "print(type(c)) # class 'numpy.ndarray'\n",
        "print(c)\n",
        "print(c.shape)\n",
        "\n",
        "d = np.zeros((2, 3)) # all zeros\n",
        "print(type(d)) # class 'numpy.ndarray'\n",
        "print(d)\n",
        "\n",
        "e = np.ones((2, 3), dtype='int') # all ones\n",
        "print(type(e)) # class 'numpy.ndarray'\n",
        "print(e)\n",
        "\n",
        "f = np.full((2, 3), 9) # constant matrix\n",
        "print(type(f)) # class 'numpy.ndarray'\n",
        "print(f)\n",
        "\n",
        "g = np.eye(3) # 3 x 3 identity matrix\n",
        "print(type(g)) # class 'numpy.ndarray'\n",
        "print(g)"
      ],
      "execution_count": null,
      "outputs": [
        {
          "output_type": "stream",
          "name": "stdout",
          "text": [
            "<class 'numpy.ndarray'>\n",
            "[0. 2. 4. 6. 8.]\n",
            "(5,)\n",
            "<class 'tuple'>\n",
            "<class 'numpy.ndarray'>\n",
            "[1.5   1.625 1.75  1.875 2.    2.125 2.25  2.375 2.5  ]\n",
            "(9,)\n",
            "<class 'numpy.ndarray'>\n",
            "[[0. 0. 0.]\n",
            " [0. 0. 0.]]\n",
            "<class 'numpy.ndarray'>\n",
            "[[1 1 1]\n",
            " [1 1 1]]\n",
            "<class 'numpy.ndarray'>\n",
            "[[9 9 9]\n",
            " [9 9 9]]\n",
            "<class 'numpy.ndarray'>\n",
            "[[1. 0. 0.]\n",
            " [0. 1. 0.]\n",
            " [0. 0. 1.]]\n"
          ]
        }
      ]
    },
    {
      "cell_type": "code",
      "metadata": {
        "colab": {
          "base_uri": "https://localhost:8080/"
        },
        "id": "HXvvoYQ8CkHb",
        "outputId": "22ea1f45-36cb-4011-ecbe-a2ce54ec6906"
      },
      "source": [
        "print(d)\n",
        "print(d.shape)"
      ],
      "execution_count": null,
      "outputs": [
        {
          "output_type": "stream",
          "name": "stdout",
          "text": [
            "[[0. 0. 0.]\n",
            " [0. 0. 0.]]\n",
            "(2, 3)\n"
          ]
        }
      ]
    },
    {
      "cell_type": "code",
      "metadata": {
        "id": "FXR5XhsecdDx",
        "colab": {
          "base_uri": "https://localhost:8080/"
        },
        "outputId": "077775fe-8e69-44bf-d7bb-8630916af797"
      },
      "source": [
        "j = d.reshape((3,2,1))\n",
        "print(j)\n",
        "print(j.shape)\n",
        "print(j.dtype)"
      ],
      "execution_count": null,
      "outputs": [
        {
          "output_type": "stream",
          "name": "stdout",
          "text": [
            "[[[0.]\n",
            "  [0.]]\n",
            "\n",
            " [[0.]\n",
            "  [0.]]\n",
            "\n",
            " [[0.]\n",
            "  [0.]]]\n",
            "(3, 2, 1)\n",
            "float64\n"
          ]
        }
      ]
    },
    {
      "cell_type": "code",
      "metadata": {
        "id": "mvNEjcoROkrq",
        "colab": {
          "base_uri": "https://localhost:8080/"
        },
        "outputId": "b8715858-c32c-4c59-eea8-324c0ab53516"
      },
      "source": [
        "print(b)\n",
        "print(b.shape)"
      ],
      "execution_count": null,
      "outputs": [
        {
          "output_type": "stream",
          "name": "stdout",
          "text": [
            "[0. 2. 4. 6. 8.]\n",
            "(5,)\n"
          ]
        }
      ]
    },
    {
      "cell_type": "code",
      "metadata": {
        "id": "alXll15QFhZj",
        "colab": {
          "base_uri": "https://localhost:8080/"
        },
        "outputId": "54772acf-9d9b-46d1-c312-9124f2be1518"
      },
      "source": [
        "# reshape\n",
        "h = b.reshape((1, 5))\n",
        "print(h)\n",
        "print(h.shape)"
      ],
      "execution_count": null,
      "outputs": [
        {
          "output_type": "stream",
          "name": "stdout",
          "text": [
            "[[0. 2. 4. 6. 8.]]\n",
            "(1, 5)\n"
          ]
        }
      ]
    },
    {
      "cell_type": "markdown",
      "metadata": {
        "id": "pAkR5CmFMBQJ"
      },
      "source": [
        "**Indexing and Slicing**"
      ]
    },
    {
      "cell_type": "code",
      "metadata": {
        "id": "OH23HeknMHZF",
        "colab": {
          "base_uri": "https://localhost:8080/"
        },
        "outputId": "4edb0edb-b836-43ec-c81a-b7e25532580c"
      },
      "source": [
        "a = np.array([[1,2,3,4], [5,6,7,8], [9,10,11,12]])\n",
        "print(a)\n",
        "# [ , ]\n",
        "# Use slicing to pull out the subarray consisting of the first 2 rows\n",
        "# and columns 1 and 2; b is the following array of shape (2, 2):\n",
        "# [[2 3]\n",
        "#  [6 7]]\n",
        "# start(inclusive) : end(exclusive) : step\n",
        "b = a[ 0 : 2 ,    1:3]\n",
        "print(b)\n",
        "print(a[1]) # access a row\n",
        "print(a[ : , 2:3]) # access a col\n",
        "print(a[1 , 1]) # access single value"
      ],
      "execution_count": null,
      "outputs": [
        {
          "output_type": "stream",
          "name": "stdout",
          "text": [
            "[[ 1  2  3  4]\n",
            " [ 5  6  7  8]\n",
            " [ 9 10 11 12]]\n",
            "[[2 3]\n",
            " [6 7]]\n",
            "[5 6 7 8]\n",
            "[[ 3]\n",
            " [ 7]\n",
            " [11]]\n",
            "6\n"
          ]
        }
      ]
    },
    {
      "cell_type": "code",
      "metadata": {
        "id": "zMANS-DrSzRw",
        "colab": {
          "base_uri": "https://localhost:8080/"
        },
        "outputId": "5cf177d0-d02d-42d4-8ab7-56c807c10fe7"
      },
      "source": [
        "# boolean masking\n",
        "# and &\n",
        "# or |\n",
        "a = np.array([[1,2,3,4], [5,6,7,8], [9,10,11,12]])\n",
        "print(a)\n",
        "\n",
        "a_idx1 = (a <= 5) # return the boolean array that satisfies the conidtion\n",
        "print(a_idx1)\n",
        "a_idx2 = (a >=5) & (a <= 10) # return the boolean array that satisfies the conidtion\n",
        "print(a_idx2)\n",
        "#and a and b\n",
        "print(a[a_idx1]) # return the corresponding array\n",
        "print(a[a_idx2]) # return the corresponding array\n",
        "\n",
        "print(type(a[(a > 5) & (a < 10)])) # single statement"
      ],
      "execution_count": null,
      "outputs": [
        {
          "output_type": "stream",
          "name": "stdout",
          "text": [
            "[[ 1  2  3  4]\n",
            " [ 5  6  7  8]\n",
            " [ 9 10 11 12]]\n",
            "[[ True  True  True  True]\n",
            " [ True False False False]\n",
            " [False False False False]]\n",
            "[[False False False False]\n",
            " [ True  True  True  True]\n",
            " [ True  True False False]]\n",
            "[1 2 3 4 5]\n",
            "[ 5  6  7  8  9 10]\n",
            "<class 'numpy.ndarray'>\n"
          ]
        }
      ]
    },
    {
      "cell_type": "markdown",
      "metadata": {
        "id": "8PATvmrlHWBE"
      },
      "source": [
        "**Math**"
      ]
    },
    {
      "cell_type": "code",
      "metadata": {
        "id": "TxaGALTuHYjN",
        "colab": {
          "base_uri": "https://localhost:8080/"
        },
        "outputId": "d594c595-7cc5-41b4-a30c-74227c56898a"
      },
      "source": [
        "import numpy as np\n",
        "\n",
        "a = np.array([[10, 11, 12], [13, 14, 15]])\n",
        "#print(a.shape)\n",
        "print(a)\n",
        "b = np.arange(1, 7).reshape((2, 3))\n",
        "#print(b.shape)\n",
        "print(b)\n",
        "\n",
        "# element-wise calculation:\n",
        "print(a + b)\n",
        "print(a - b)\n",
        "print(np.add(a, b))\n",
        "print(a * b)\n",
        "\n",
        "# Matrix product\n",
        "print(np.dot(a, b.transpose())) # 2x3, 3x2\n",
        "#a.dot(b.transpose())\n",
        "print(a.T.dot(b)) # 3x2, 2x3\n",
        "#np.dot(a.T, b)"
      ],
      "execution_count": null,
      "outputs": [
        {
          "output_type": "stream",
          "name": "stdout",
          "text": [
            "[[10 11 12]\n",
            " [13 14 15]]\n",
            "[[1 2 3]\n",
            " [4 5 6]]\n",
            "[[11 13 15]\n",
            " [17 19 21]]\n",
            "[[9 9 9]\n",
            " [9 9 9]]\n",
            "[[11 13 15]\n",
            " [17 19 21]]\n",
            "[[10 22 36]\n",
            " [52 70 90]]\n",
            "[[ 68 167]\n",
            " [ 86 212]]\n",
            "[[ 62  85 108]\n",
            " [ 67  92 117]\n",
            " [ 72  99 126]]\n"
          ]
        }
      ]
    },
    {
      "cell_type": "code",
      "metadata": {
        "id": "h1O3E3l-SMbP",
        "colab": {
          "base_uri": "https://localhost:8080/"
        },
        "outputId": "3196b671-558b-414f-80b5-cb2e6d1d5675"
      },
      "source": [
        "print(a)\n",
        "print(b.transpose())\n",
        "print(a.dot(b.T))"
      ],
      "execution_count": null,
      "outputs": [
        {
          "output_type": "stream",
          "name": "stdout",
          "text": [
            "[[10 11 12]\n",
            " [13 14 15]]\n",
            "[[1 4]\n",
            " [2 5]\n",
            " [3 6]]\n",
            "[[ 68 167]\n",
            " [ 86 212]]\n"
          ]
        }
      ]
    },
    {
      "cell_type": "code",
      "metadata": {
        "id": "j1znyLV-IzHK",
        "colab": {
          "base_uri": "https://localhost:8080/"
        },
        "outputId": "2b406093-e56d-48ca-c61d-82ceb88b5965"
      },
      "source": [
        "print(a)\n",
        "print(a.T)\n",
        "print(a.transpose())"
      ],
      "execution_count": null,
      "outputs": [
        {
          "output_type": "stream",
          "name": "stdout",
          "text": [
            "[[10 11 12]\n",
            " [13 14 15]]\n",
            "[[10 13]\n",
            " [11 14]\n",
            " [12 15]]\n",
            "[[10 13]\n",
            " [11 14]\n",
            " [12 15]]\n"
          ]
        }
      ]
    },
    {
      "cell_type": "code",
      "source": [
        "a = np.array([[10, 11, 12], [13, 14, 15]])\n",
        "a = a.T\n",
        "a"
      ],
      "metadata": {
        "colab": {
          "base_uri": "https://localhost:8080/"
        },
        "id": "uyna7gI5sDRZ",
        "outputId": "063b1165-37eb-44c5-8cbb-e4a21cfa8e86"
      },
      "execution_count": null,
      "outputs": [
        {
          "output_type": "execute_result",
          "data": {
            "text/plain": [
              "array([[10, 13],\n",
              "       [11, 14],\n",
              "       [12, 15]])"
            ]
          },
          "metadata": {},
          "execution_count": 33
        }
      ]
    },
    {
      "cell_type": "code",
      "source": [
        "a = np.array([[10, 11, 12], [13, 14, 15]])\n",
        "a.transpose()"
      ],
      "metadata": {
        "colab": {
          "base_uri": "https://localhost:8080/"
        },
        "id": "8rTbbu-2sLeL",
        "outputId": "cfbf0132-9952-40e9-c5fc-fd9ffc8596bd"
      },
      "execution_count": null,
      "outputs": [
        {
          "output_type": "execute_result",
          "data": {
            "text/plain": [
              "array([[10, 13],\n",
              "       [11, 14],\n",
              "       [12, 15]])"
            ]
          },
          "metadata": {},
          "execution_count": 34
        }
      ]
    },
    {
      "cell_type": "code",
      "metadata": {
        "id": "bk4CLmb_Mqjv"
      },
      "source": [
        "# Matrix multiplication\n",
        "# print(a, a.shape)\n",
        "# print(b, b.shape)\n",
        "# axb dot bxc -> axc\n",
        "# 2x3 dot 3x4 -> 2x4\n",
        "# 3x2 dot 2x3 -> 3x3\n",
        "#print(a.T, a.T.shape)\n",
        "#print(b, b.shape)\n",
        "#print(a.T.dot(b))"
      ],
      "execution_count": null,
      "outputs": []
    },
    {
      "cell_type": "code",
      "metadata": {
        "id": "jDciF7luJkvd",
        "colab": {
          "base_uri": "https://localhost:8080/"
        },
        "outputId": "6dea7f01-5a08-4fa8-bfa6-823cf41aa4d6"
      },
      "source": [
        "# calculation along row or column index, calculate by the index of the axis which is set\n",
        "# Axis 0 will act on all the ROWS in each COLUMN\n",
        "# Axis 1 will act on all the COLUMNS in each ROW\n",
        "# check this link for axis https://stackoverflow.com/questions/22149584/what-does-axis-in-pandas-mean\n",
        "# https://stackoverflow.com/questions/25773245/ambiguity-in-pandas-dataframe-numpy-array-axis-definition\n",
        "print(a)\n",
        "print(np.sum(a))\n",
        "print(np.sum(a, axis = 0)) #col\n",
        "print(np.sum(a, axis = 1)) #row"
      ],
      "execution_count": null,
      "outputs": [
        {
          "output_type": "stream",
          "name": "stdout",
          "text": [
            "[[10 11 12]\n",
            " [13 14 15]]\n",
            "75\n",
            "[23 25 27]\n",
            "[33 42]\n"
          ]
        }
      ]
    },
    {
      "cell_type": "markdown",
      "metadata": {
        "id": "X_3CwBxJX2sr"
      },
      "source": [
        "**Random**"
      ]
    },
    {
      "cell_type": "code",
      "metadata": {
        "id": "CRoLZLBUX6HZ",
        "colab": {
          "base_uri": "https://localhost:8080/"
        },
        "outputId": "27d5483c-01ea-4783-8543-db296222fdc7"
      },
      "source": [
        "# generate random number\n",
        "import numpy as np\n",
        "print(np.random.rand(2,2)) # Uniform distribution - Random numbers between [0,1) of shape 2,2\n",
        "print(np.random.randn(2,2)) # Normal distribution - mean = 0 and variance=1 of shape 2,2\n",
        "print(np.random.randint(0, 10, size=[2,2])) # Random integers between [0, 10) of shape 2,2\n",
        "print(np.random.random()) # One random number between [0,1)\n",
        "print(np.random.random(size=[2,2])) # Random numbers between [0,1) of shape 2,2\n",
        "print(np.random.choice(['a', 'e', 'i', 'o', 'u'], size=10)) # Pick 10 items from a given list, with equal probability\n",
        "print(np.random.choice(['a', 'e', 'i', 'o', 'u'], size=10, p=[0.3, 0.1, 0.1, 0.4, 0.1])) # Pick 10 items from a given list with a predefined probability 'p'\n",
        "print(np.random.choice(np.arange(100), size=[10,3], replace=True)) # get 10x3 random samples from [0-99] with replacement\n",
        "#replace = True --> sampling w. replacement\n",
        "#replace = False --> sampling w.o. replacement"
      ],
      "execution_count": null,
      "outputs": [
        {
          "output_type": "stream",
          "name": "stdout",
          "text": [
            "[[0.22539402 0.24987189]\n",
            " [0.04733597 0.25068358]]\n",
            "[[-0.33217752  0.14201407]\n",
            " [ 0.96718649 -0.46183269]]\n",
            "[[6 7]\n",
            " [1 6]]\n",
            "0.8116956193438797\n",
            "[[0.79159502 0.72099588]\n",
            " [0.60571657 0.64688581]]\n",
            "['a' 'e' 'i' 'a' 'o' 'o' 'e' 'o' 'i' 'u']\n",
            "['a' 'o' 'o' 'a' 'o' 'e' 'o' 'u' 'o' 'i']\n",
            "[[58 99 76]\n",
            " [48 41  4]\n",
            " [80 63 20]\n",
            " [ 2  5 77]\n",
            " [60 90 30]\n",
            " [40 19 43]\n",
            " [95 45 14]\n",
            " [29 76 92]\n",
            " [ 6 18 22]\n",
            " [57 91 54]]\n"
          ]
        }
      ]
    },
    {
      "cell_type": "code",
      "metadata": {
        "id": "92b2BezjHSLD"
      },
      "source": [
        "import numpy as np\n",
        "import pandas as pd"
      ],
      "execution_count": null,
      "outputs": []
    },
    {
      "cell_type": "code",
      "metadata": {
        "id": "G40xA9H-ZADV",
        "colab": {
          "base_uri": "https://localhost:8080/"
        },
        "outputId": "5915b4c6-ce94-4bec-a169-41e4d5d494e2"
      },
      "source": [
        "#(Advanced) use random generator to do train/test split\n",
        "\n",
        "url=\"https://gist.githubusercontent.com/curran/a08a1080b88344b0c8a7/raw/d546eaee765268bf2f487608c537c05e22e4b221/iris.csv\"\n",
        "iris = pd.read_csv(url)\n",
        "#print(iris.head())\n",
        "#print(iris.info())\n",
        "\n",
        "# Split data into training and testing\n",
        "iris_idx = np.arange(iris.shape[0])\n",
        "#np.arange(5). --> [0,1,2,3,4]\n",
        "print(iris.shape[0])\n",
        "num_training = int(np.floor(0.75 * iris.shape[0]))\n",
        "print(num_training)\n",
        "iris_train_idx = np.random.choice(iris_idx, size = num_training, replace = False)\n",
        "iris_test_idx = np.delete(iris_idx, iris_train_idx)"
      ],
      "execution_count": null,
      "outputs": [
        {
          "output_type": "stream",
          "name": "stdout",
          "text": [
            "150\n",
            "112\n"
          ]
        }
      ]
    },
    {
      "cell_type": "code",
      "source": [
        "iris.shape[0]"
      ],
      "metadata": {
        "colab": {
          "base_uri": "https://localhost:8080/"
        },
        "id": "6VYfnsx1ZcYD",
        "outputId": "21926867-9647-45b6-daa5-dd68ac380400"
      },
      "execution_count": null,
      "outputs": [
        {
          "output_type": "execute_result",
          "data": {
            "text/plain": [
              "150"
            ]
          },
          "metadata": {},
          "execution_count": 17
        }
      ]
    },
    {
      "cell_type": "code",
      "source": [
        "np.arange(150)"
      ],
      "metadata": {
        "colab": {
          "base_uri": "https://localhost:8080/"
        },
        "id": "ft-GjjVdZSC9",
        "outputId": "604355d6-4ece-4088-de94-b6591ed82a8f"
      },
      "execution_count": null,
      "outputs": [
        {
          "output_type": "execute_result",
          "data": {
            "text/plain": [
              "array([  0,   1,   2,   3,   4,   5,   6,   7,   8,   9,  10,  11,  12,\n",
              "        13,  14,  15,  16,  17,  18,  19,  20,  21,  22,  23,  24,  25,\n",
              "        26,  27,  28,  29,  30,  31,  32,  33,  34,  35,  36,  37,  38,\n",
              "        39,  40,  41,  42,  43,  44,  45,  46,  47,  48,  49,  50,  51,\n",
              "        52,  53,  54,  55,  56,  57,  58,  59,  60,  61,  62,  63,  64,\n",
              "        65,  66,  67,  68,  69,  70,  71,  72,  73,  74,  75,  76,  77,\n",
              "        78,  79,  80,  81,  82,  83,  84,  85,  86,  87,  88,  89,  90,\n",
              "        91,  92,  93,  94,  95,  96,  97,  98,  99, 100, 101, 102, 103,\n",
              "       104, 105, 106, 107, 108, 109, 110, 111, 112, 113, 114, 115, 116,\n",
              "       117, 118, 119, 120, 121, 122, 123, 124, 125, 126, 127, 128, 129,\n",
              "       130, 131, 132, 133, 134, 135, 136, 137, 138, 139, 140, 141, 142,\n",
              "       143, 144, 145, 146, 147, 148, 149])"
            ]
          },
          "metadata": {},
          "execution_count": 16
        }
      ]
    },
    {
      "cell_type": "code",
      "source": [
        "iris.head()"
      ],
      "metadata": {
        "colab": {
          "base_uri": "https://localhost:8080/",
          "height": 206
        },
        "id": "PRn0yk8KTfHA",
        "outputId": "061a89a1-883b-41f0-ddcf-da0785f1d8a1"
      },
      "execution_count": null,
      "outputs": [
        {
          "output_type": "execute_result",
          "data": {
            "text/plain": [
              "   sepal_length  sepal_width  petal_length  petal_width species\n",
              "0           5.1          3.5           1.4          0.2  setosa\n",
              "1           4.9          3.0           1.4          0.2  setosa\n",
              "2           4.7          3.2           1.3          0.2  setosa\n",
              "3           4.6          3.1           1.5          0.2  setosa\n",
              "4           5.0          3.6           1.4          0.2  setosa"
            ],
            "text/html": [
              "\n",
              "  <div id=\"df-93e97e57-5b3d-4501-a848-a83a802035ed\" class=\"colab-df-container\">\n",
              "    <div>\n",
              "<style scoped>\n",
              "    .dataframe tbody tr th:only-of-type {\n",
              "        vertical-align: middle;\n",
              "    }\n",
              "\n",
              "    .dataframe tbody tr th {\n",
              "        vertical-align: top;\n",
              "    }\n",
              "\n",
              "    .dataframe thead th {\n",
              "        text-align: right;\n",
              "    }\n",
              "</style>\n",
              "<table border=\"1\" class=\"dataframe\">\n",
              "  <thead>\n",
              "    <tr style=\"text-align: right;\">\n",
              "      <th></th>\n",
              "      <th>sepal_length</th>\n",
              "      <th>sepal_width</th>\n",
              "      <th>petal_length</th>\n",
              "      <th>petal_width</th>\n",
              "      <th>species</th>\n",
              "    </tr>\n",
              "  </thead>\n",
              "  <tbody>\n",
              "    <tr>\n",
              "      <th>0</th>\n",
              "      <td>5.1</td>\n",
              "      <td>3.5</td>\n",
              "      <td>1.4</td>\n",
              "      <td>0.2</td>\n",
              "      <td>setosa</td>\n",
              "    </tr>\n",
              "    <tr>\n",
              "      <th>1</th>\n",
              "      <td>4.9</td>\n",
              "      <td>3.0</td>\n",
              "      <td>1.4</td>\n",
              "      <td>0.2</td>\n",
              "      <td>setosa</td>\n",
              "    </tr>\n",
              "    <tr>\n",
              "      <th>2</th>\n",
              "      <td>4.7</td>\n",
              "      <td>3.2</td>\n",
              "      <td>1.3</td>\n",
              "      <td>0.2</td>\n",
              "      <td>setosa</td>\n",
              "    </tr>\n",
              "    <tr>\n",
              "      <th>3</th>\n",
              "      <td>4.6</td>\n",
              "      <td>3.1</td>\n",
              "      <td>1.5</td>\n",
              "      <td>0.2</td>\n",
              "      <td>setosa</td>\n",
              "    </tr>\n",
              "    <tr>\n",
              "      <th>4</th>\n",
              "      <td>5.0</td>\n",
              "      <td>3.6</td>\n",
              "      <td>1.4</td>\n",
              "      <td>0.2</td>\n",
              "      <td>setosa</td>\n",
              "    </tr>\n",
              "  </tbody>\n",
              "</table>\n",
              "</div>\n",
              "    <div class=\"colab-df-buttons\">\n",
              "\n",
              "  <div class=\"colab-df-container\">\n",
              "    <button class=\"colab-df-convert\" onclick=\"convertToInteractive('df-93e97e57-5b3d-4501-a848-a83a802035ed')\"\n",
              "            title=\"Convert this dataframe to an interactive table.\"\n",
              "            style=\"display:none;\">\n",
              "\n",
              "  <svg xmlns=\"http://www.w3.org/2000/svg\" height=\"24px\" viewBox=\"0 -960 960 960\">\n",
              "    <path d=\"M120-120v-720h720v720H120Zm60-500h600v-160H180v160Zm220 220h160v-160H400v160Zm0 220h160v-160H400v160ZM180-400h160v-160H180v160Zm440 0h160v-160H620v160ZM180-180h160v-160H180v160Zm440 0h160v-160H620v160Z\"/>\n",
              "  </svg>\n",
              "    </button>\n",
              "\n",
              "  <style>\n",
              "    .colab-df-container {\n",
              "      display:flex;\n",
              "      gap: 12px;\n",
              "    }\n",
              "\n",
              "    .colab-df-convert {\n",
              "      background-color: #E8F0FE;\n",
              "      border: none;\n",
              "      border-radius: 50%;\n",
              "      cursor: pointer;\n",
              "      display: none;\n",
              "      fill: #1967D2;\n",
              "      height: 32px;\n",
              "      padding: 0 0 0 0;\n",
              "      width: 32px;\n",
              "    }\n",
              "\n",
              "    .colab-df-convert:hover {\n",
              "      background-color: #E2EBFA;\n",
              "      box-shadow: 0px 1px 2px rgba(60, 64, 67, 0.3), 0px 1px 3px 1px rgba(60, 64, 67, 0.15);\n",
              "      fill: #174EA6;\n",
              "    }\n",
              "\n",
              "    .colab-df-buttons div {\n",
              "      margin-bottom: 4px;\n",
              "    }\n",
              "\n",
              "    [theme=dark] .colab-df-convert {\n",
              "      background-color: #3B4455;\n",
              "      fill: #D2E3FC;\n",
              "    }\n",
              "\n",
              "    [theme=dark] .colab-df-convert:hover {\n",
              "      background-color: #434B5C;\n",
              "      box-shadow: 0px 1px 3px 1px rgba(0, 0, 0, 0.15);\n",
              "      filter: drop-shadow(0px 1px 2px rgba(0, 0, 0, 0.3));\n",
              "      fill: #FFFFFF;\n",
              "    }\n",
              "  </style>\n",
              "\n",
              "    <script>\n",
              "      const buttonEl =\n",
              "        document.querySelector('#df-93e97e57-5b3d-4501-a848-a83a802035ed button.colab-df-convert');\n",
              "      buttonEl.style.display =\n",
              "        google.colab.kernel.accessAllowed ? 'block' : 'none';\n",
              "\n",
              "      async function convertToInteractive(key) {\n",
              "        const element = document.querySelector('#df-93e97e57-5b3d-4501-a848-a83a802035ed');\n",
              "        const dataTable =\n",
              "          await google.colab.kernel.invokeFunction('convertToInteractive',\n",
              "                                                    [key], {});\n",
              "        if (!dataTable) return;\n",
              "\n",
              "        const docLinkHtml = 'Like what you see? Visit the ' +\n",
              "          '<a target=\"_blank\" href=https://colab.research.google.com/notebooks/data_table.ipynb>data table notebook</a>'\n",
              "          + ' to learn more about interactive tables.';\n",
              "        element.innerHTML = '';\n",
              "        dataTable['output_type'] = 'display_data';\n",
              "        await google.colab.output.renderOutput(dataTable, element);\n",
              "        const docLink = document.createElement('div');\n",
              "        docLink.innerHTML = docLinkHtml;\n",
              "        element.appendChild(docLink);\n",
              "      }\n",
              "    </script>\n",
              "  </div>\n",
              "\n",
              "\n",
              "<div id=\"df-97c07bf3-c4b4-41ae-8db4-df45326c3476\">\n",
              "  <button class=\"colab-df-quickchart\" onclick=\"quickchart('df-97c07bf3-c4b4-41ae-8db4-df45326c3476')\"\n",
              "            title=\"Suggest charts.\"\n",
              "            style=\"display:none;\">\n",
              "\n",
              "<svg xmlns=\"http://www.w3.org/2000/svg\" height=\"24px\"viewBox=\"0 0 24 24\"\n",
              "     width=\"24px\">\n",
              "    <g>\n",
              "        <path d=\"M19 3H5c-1.1 0-2 .9-2 2v14c0 1.1.9 2 2 2h14c1.1 0 2-.9 2-2V5c0-1.1-.9-2-2-2zM9 17H7v-7h2v7zm4 0h-2V7h2v10zm4 0h-2v-4h2v4z\"/>\n",
              "    </g>\n",
              "</svg>\n",
              "  </button>\n",
              "\n",
              "<style>\n",
              "  .colab-df-quickchart {\n",
              "      --bg-color: #E8F0FE;\n",
              "      --fill-color: #1967D2;\n",
              "      --hover-bg-color: #E2EBFA;\n",
              "      --hover-fill-color: #174EA6;\n",
              "      --disabled-fill-color: #AAA;\n",
              "      --disabled-bg-color: #DDD;\n",
              "  }\n",
              "\n",
              "  [theme=dark] .colab-df-quickchart {\n",
              "      --bg-color: #3B4455;\n",
              "      --fill-color: #D2E3FC;\n",
              "      --hover-bg-color: #434B5C;\n",
              "      --hover-fill-color: #FFFFFF;\n",
              "      --disabled-bg-color: #3B4455;\n",
              "      --disabled-fill-color: #666;\n",
              "  }\n",
              "\n",
              "  .colab-df-quickchart {\n",
              "    background-color: var(--bg-color);\n",
              "    border: none;\n",
              "    border-radius: 50%;\n",
              "    cursor: pointer;\n",
              "    display: none;\n",
              "    fill: var(--fill-color);\n",
              "    height: 32px;\n",
              "    padding: 0;\n",
              "    width: 32px;\n",
              "  }\n",
              "\n",
              "  .colab-df-quickchart:hover {\n",
              "    background-color: var(--hover-bg-color);\n",
              "    box-shadow: 0 1px 2px rgba(60, 64, 67, 0.3), 0 1px 3px 1px rgba(60, 64, 67, 0.15);\n",
              "    fill: var(--button-hover-fill-color);\n",
              "  }\n",
              "\n",
              "  .colab-df-quickchart-complete:disabled,\n",
              "  .colab-df-quickchart-complete:disabled:hover {\n",
              "    background-color: var(--disabled-bg-color);\n",
              "    fill: var(--disabled-fill-color);\n",
              "    box-shadow: none;\n",
              "  }\n",
              "\n",
              "  .colab-df-spinner {\n",
              "    border: 2px solid var(--fill-color);\n",
              "    border-color: transparent;\n",
              "    border-bottom-color: var(--fill-color);\n",
              "    animation:\n",
              "      spin 1s steps(1) infinite;\n",
              "  }\n",
              "\n",
              "  @keyframes spin {\n",
              "    0% {\n",
              "      border-color: transparent;\n",
              "      border-bottom-color: var(--fill-color);\n",
              "      border-left-color: var(--fill-color);\n",
              "    }\n",
              "    20% {\n",
              "      border-color: transparent;\n",
              "      border-left-color: var(--fill-color);\n",
              "      border-top-color: var(--fill-color);\n",
              "    }\n",
              "    30% {\n",
              "      border-color: transparent;\n",
              "      border-left-color: var(--fill-color);\n",
              "      border-top-color: var(--fill-color);\n",
              "      border-right-color: var(--fill-color);\n",
              "    }\n",
              "    40% {\n",
              "      border-color: transparent;\n",
              "      border-right-color: var(--fill-color);\n",
              "      border-top-color: var(--fill-color);\n",
              "    }\n",
              "    60% {\n",
              "      border-color: transparent;\n",
              "      border-right-color: var(--fill-color);\n",
              "    }\n",
              "    80% {\n",
              "      border-color: transparent;\n",
              "      border-right-color: var(--fill-color);\n",
              "      border-bottom-color: var(--fill-color);\n",
              "    }\n",
              "    90% {\n",
              "      border-color: transparent;\n",
              "      border-bottom-color: var(--fill-color);\n",
              "    }\n",
              "  }\n",
              "</style>\n",
              "\n",
              "  <script>\n",
              "    async function quickchart(key) {\n",
              "      const quickchartButtonEl =\n",
              "        document.querySelector('#' + key + ' button');\n",
              "      quickchartButtonEl.disabled = true;  // To prevent multiple clicks.\n",
              "      quickchartButtonEl.classList.add('colab-df-spinner');\n",
              "      try {\n",
              "        const charts = await google.colab.kernel.invokeFunction(\n",
              "            'suggestCharts', [key], {});\n",
              "      } catch (error) {\n",
              "        console.error('Error during call to suggestCharts:', error);\n",
              "      }\n",
              "      quickchartButtonEl.classList.remove('colab-df-spinner');\n",
              "      quickchartButtonEl.classList.add('colab-df-quickchart-complete');\n",
              "    }\n",
              "    (() => {\n",
              "      let quickchartButtonEl =\n",
              "        document.querySelector('#df-97c07bf3-c4b4-41ae-8db4-df45326c3476 button');\n",
              "      quickchartButtonEl.style.display =\n",
              "        google.colab.kernel.accessAllowed ? 'block' : 'none';\n",
              "    })();\n",
              "  </script>\n",
              "</div>\n",
              "    </div>\n",
              "  </div>\n"
            ]
          },
          "metadata": {},
          "execution_count": 43
        }
      ]
    },
    {
      "cell_type": "code",
      "source": [
        "iris.shape[0]"
      ],
      "metadata": {
        "colab": {
          "base_uri": "https://localhost:8080/"
        },
        "id": "vuDLo9cxkoIx",
        "outputId": "032d3033-59b9-4129-d8d2-21975be9feb7"
      },
      "execution_count": null,
      "outputs": [
        {
          "output_type": "execute_result",
          "data": {
            "text/plain": [
              "150"
            ]
          },
          "metadata": {},
          "execution_count": 40
        }
      ]
    },
    {
      "cell_type": "code",
      "source": [
        "iris_train_idx"
      ],
      "metadata": {
        "colab": {
          "base_uri": "https://localhost:8080/"
        },
        "id": "cbtIujaCoEoD",
        "outputId": "a2ff716a-13d3-42b7-fa1b-b8b8195a867f"
      },
      "execution_count": null,
      "outputs": [
        {
          "output_type": "execute_result",
          "data": {
            "text/plain": [
              "array([  0, 149,  13,  47,  36,  14,  29,  46, 120,  26,  15,  81,  70,\n",
              "       113,  74,   3,  84, 126,  48,  76,   6,  98, 134, 107, 139, 146,\n",
              "        65,  18,   4, 112, 145, 148, 104, 122, 115,  87,  92,  91,  53,\n",
              "       132,  82,  39,  72, 102,  44,   8, 141, 101, 133,  40,  12, 137,\n",
              "        68,  38,  58, 108,  45,  59,  21,  71, 147,  25,  41, 125,  75,\n",
              "       109,  93,  54, 142, 140, 117,  73,  78,  99,  49,  79,  97, 116,\n",
              "        10,  31,  80, 100,  24, 121,  55,  27,  61, 136, 123,  69,  95,\n",
              "        90,  83,  17,  35, 130,  51, 138,  64,   5, 118,  20,  43,  67,\n",
              "        28,  30,  42,  77,  89, 106,  88,  85])"
            ]
          },
          "metadata": {},
          "execution_count": 41
        }
      ]
    },
    {
      "cell_type": "code",
      "source": [
        "iris_test_idx"
      ],
      "metadata": {
        "colab": {
          "base_uri": "https://localhost:8080/"
        },
        "id": "QmiL2hVMoJEa",
        "outputId": "56df42a7-9ef4-4f7f-8cdc-72107d5b427d"
      },
      "execution_count": null,
      "outputs": [
        {
          "output_type": "execute_result",
          "data": {
            "text/plain": [
              "array([  1,   2,   7,   9,  11,  16,  19,  22,  23,  32,  33,  34,  37,\n",
              "        50,  52,  56,  57,  60,  62,  63,  66,  86,  94,  96, 103, 105,\n",
              "       110, 111, 114, 119, 124, 127, 128, 129, 131, 135, 143, 144])"
            ]
          },
          "metadata": {},
          "execution_count": 42
        }
      ]
    },
    {
      "cell_type": "code",
      "source": [
        "iris.shape"
      ],
      "metadata": {
        "colab": {
          "base_uri": "https://localhost:8080/"
        },
        "id": "dXYrHjzsYF-h",
        "outputId": "0a7df0bc-50aa-488a-9cee-f88030a303a9"
      },
      "execution_count": null,
      "outputs": [
        {
          "output_type": "execute_result",
          "data": {
            "text/plain": [
              "(150, 5)"
            ]
          },
          "metadata": {},
          "execution_count": 44
        }
      ]
    },
    {
      "cell_type": "code",
      "source": [
        "iris.shape[0]"
      ],
      "metadata": {
        "colab": {
          "base_uri": "https://localhost:8080/"
        },
        "id": "yzFWolQ5TmO8",
        "outputId": "321d7448-2bb5-427c-fdd6-6dd6752675bb"
      },
      "execution_count": null,
      "outputs": [
        {
          "output_type": "execute_result",
          "data": {
            "text/plain": [
              "150"
            ]
          },
          "metadata": {},
          "execution_count": 45
        }
      ]
    },
    {
      "cell_type": "code",
      "source": [
        "num_training"
      ],
      "metadata": {
        "colab": {
          "base_uri": "https://localhost:8080/"
        },
        "id": "S9hhWS9ST31R",
        "outputId": "cdefb321-60ce-4264-af42-65a3022b5c36"
      },
      "execution_count": null,
      "outputs": [
        {
          "output_type": "execute_result",
          "data": {
            "text/plain": [
              "112"
            ]
          },
          "metadata": {},
          "execution_count": 46
        }
      ]
    },
    {
      "cell_type": "code",
      "metadata": {
        "id": "LPF-H2dzKBog",
        "colab": {
          "base_uri": "https://localhost:8080/"
        },
        "outputId": "857a8819-52aa-4d49-c19f-44b99a71e704"
      },
      "source": [
        "import numpy as np\n",
        "# (Advanced) A random seed (random_state)\n",
        "# random.RandomState() is a number (or vector) used to initialize a pseudorandom number generator.\n",
        "# generate the deterministic random data\n",
        "a = np.random.RandomState(24)\n",
        "print(type(a))"
      ],
      "execution_count": null,
      "outputs": [
        {
          "output_type": "stream",
          "name": "stdout",
          "text": [
            "<class 'numpy.random.mtrand.RandomState'>\n"
          ]
        }
      ]
    },
    {
      "cell_type": "code",
      "metadata": {
        "id": "O2gz0YS5ESIT",
        "colab": {
          "base_uri": "https://localhost:8080/"
        },
        "outputId": "47cd9bd5-2ac7-465b-e7e1-e555988ffd83"
      },
      "source": [
        "a.randint(1000)"
      ],
      "execution_count": null,
      "outputs": [
        {
          "output_type": "execute_result",
          "data": {
            "text/plain": [
              "418"
            ]
          },
          "metadata": {},
          "execution_count": 7
        }
      ]
    },
    {
      "cell_type": "code",
      "metadata": {
        "id": "WTiOKNR3EVt1",
        "colab": {
          "base_uri": "https://localhost:8080/"
        },
        "outputId": "e71ed527-902a-4996-9925-790e06e31d9a"
      },
      "source": [
        "a.randint(1000)"
      ],
      "execution_count": null,
      "outputs": [
        {
          "output_type": "execute_result",
          "data": {
            "text/plain": [
              "899"
            ]
          },
          "metadata": {},
          "execution_count": 8
        }
      ]
    },
    {
      "cell_type": "code",
      "metadata": {
        "id": "XL_YEmtkv6Nq",
        "colab": {
          "base_uri": "https://localhost:8080/"
        },
        "outputId": "baa2ff56-a395-47cc-9bd6-44b3722ffb40"
      },
      "source": [
        "a.randint(1000)"
      ],
      "execution_count": null,
      "outputs": [
        {
          "output_type": "execute_result",
          "data": {
            "text/plain": [
              "192"
            ]
          },
          "metadata": {},
          "execution_count": 9
        }
      ]
    },
    {
      "cell_type": "code",
      "source": [
        "a.randint(1000)"
      ],
      "metadata": {
        "id": "PtsbwCGqmli4",
        "colab": {
          "base_uri": "https://localhost:8080/"
        },
        "outputId": "1fefdbc4-c461-4bb8-e42a-bfe239c65091"
      },
      "execution_count": null,
      "outputs": [
        {
          "output_type": "execute_result",
          "data": {
            "text/plain": [
              "343"
            ]
          },
          "metadata": {},
          "execution_count": 10
        }
      ]
    },
    {
      "cell_type": "code",
      "source": [],
      "metadata": {
        "id": "dc4Biu3LVRVk"
      },
      "execution_count": null,
      "outputs": []
    }
  ]
}